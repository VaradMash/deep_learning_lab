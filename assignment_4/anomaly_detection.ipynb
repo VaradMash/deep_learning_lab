{
 "cells": [
  {
   "cell_type": "markdown",
   "id": "74ba7a9c",
   "metadata": {},
   "source": [
    "<center><h1>Assignment 4</h1></center>\n",
    "\n",
    "## Problem Statement\n",
    "Use Autoencoder to implement anomaly detection. Build the model by using:\n",
    "1. Import required libraries\n",
    "2. Upload / access the dataset\n",
    "3. Encoder converts it into latent representation\n",
    "4. Decoder networks convert it back to the original input\n",
    "5. Compile the models with Optimizer, Loss, and Evaluation Metrics\n",
    "\n",
    "## Notebook Details\n",
    "1. Author : Varad Girish Mashalkar\n",
    "2. Branch : Information Technology\n",
    "3. Division : BE 11\n",
    "4. Batch : Q11\n",
    "5. Roll Number : 43335\n",
    "6. Course : Laboratory Practice 4 (Deep Learning)\n",
    "\n",
    "## Implementation Details\n",
    "1. Python version : 3.7.0\n",
    "2. Tensorflow version : 2.7.0 (Compatible with CUDA11.5 and cuDNN8.6.0)\n",
    "\n",
    "## Imports\n",
    "1. numpy\n",
    "2. tensorflow\n",
    "3. matplotlib\n",
    "4. seaborn\n",
    "5. sklearn.metrics.accuracy_score\n",
    "6. sklearn.preprocessing.MinMaxScaler\n",
    "7. sklearn.model_selection.train_test_split\n",
    "8. pandas\n",
    "\n",
    "## ECG dataset\n",
    "1. Dataset link : http://storage.googleapis.com/download.tensorflow.org/data/ecg.csv"
   ]
  },
  {
   "cell_type": "markdown",
   "id": "a7c78264",
   "metadata": {},
   "source": [
    "# Downloading the dataset"
   ]
  },
  {
   "cell_type": "code",
   "execution_count": 1,
   "id": "237211ad",
   "metadata": {},
   "outputs": [
    {
     "name": "stdout",
     "output_type": "stream",
     "text": [
      "--2022-10-29 11:41:38--  http://storage.googleapis.com/download.tensorflow.org/data/ecg.csv\n",
      "Resolving storage.googleapis.com (storage.googleapis.com)... 216.58.196.208, 172.217.167.240, 142.250.207.208, ...\n",
      "Connecting to storage.googleapis.com (storage.googleapis.com)|216.58.196.208|:80... connected.\n",
      "HTTP request sent, awaiting response... 200 OK\n",
      "Length: 7877383 (7.5M) [text/csv]\n",
      "Saving to: ‘ecg.csv’\n",
      "\n",
      "ecg.csv             100%[===================>]   7.51M  9.88MB/s    in 0.8s    \n",
      "\n",
      "2022-10-29 11:41:40 (9.88 MB/s) - ‘ecg.csv’ saved [7877383/7877383]\n",
      "\n"
     ]
    }
   ],
   "source": [
    "!wget http://storage.googleapis.com/download.tensorflow.org/data/ecg.csv"
   ]
  },
  {
   "cell_type": "markdown",
   "id": "95ca7173",
   "metadata": {},
   "source": [
    "# 1. Importing required libraries"
   ]
  },
  {
   "cell_type": "code",
   "execution_count": 2,
   "id": "f80d9b6a",
   "metadata": {},
   "outputs": [
    {
     "name": "stderr",
     "output_type": "stream",
     "text": [
      "/home/varadmash/anaconda3/envs/python3.7_DL/lib/python3.7/importlib/_bootstrap.py:219: RuntimeWarning: numpy.ufunc size changed, may indicate binary incompatibility. Expected 192 from C header, got 216 from PyObject\n",
      "  return f(*args, **kwds)\n"
     ]
    }
   ],
   "source": [
    "import numpy as np\n",
    "import tensorflow as tf\n",
    "import tensorflow.keras.layers as tfl\n",
    "import matplotlib.pyplot as plt\n",
    "import seaborn as sns\n",
    "import pandas as pd\n",
    "from sklearn.preprocessing import MinMaxScaler\n",
    "from sklearn.metrics import accuracy_score\n",
    "from sklearn.model_selection import train_test_split\n",
    "sns.set()\n",
    "%matplotlib inline"
   ]
  },
  {
   "cell_type": "code",
   "execution_count": 3,
   "id": "def49958",
   "metadata": {},
   "outputs": [
    {
     "data": {
      "text/plain": [
       "'2.7.0'"
      ]
     },
     "execution_count": 3,
     "metadata": {},
     "output_type": "execute_result"
    }
   ],
   "source": [
    "# Checking import version of tensorflow\n",
    "tf.__version__"
   ]
  },
  {
   "cell_type": "markdown",
   "id": "b41398f9",
   "metadata": {},
   "source": [
    "# 2. Loading the dataset"
   ]
  },
  {
   "cell_type": "code",
   "execution_count": 7,
   "id": "34d6284a",
   "metadata": {},
   "outputs": [],
   "source": [
    "raw_data = pd.read_csv(\"./ecg.csv\", header=None)"
   ]
  },
  {
   "cell_type": "code",
   "execution_count": 8,
   "id": "032a7070",
   "metadata": {},
   "outputs": [
    {
     "data": {
      "text/plain": [
       "(4998, 141)"
      ]
     },
     "execution_count": 8,
     "metadata": {},
     "output_type": "execute_result"
    }
   ],
   "source": [
    "raw_data.shape"
   ]
  },
  {
   "cell_type": "markdown",
   "id": "b74fb4ca",
   "metadata": {},
   "source": [
    "# 3. Data analysis"
   ]
  },
  {
   "cell_type": "markdown",
   "id": "edda9bb1",
   "metadata": {},
   "source": [
    "### a) Checking dataset header"
   ]
  },
  {
   "cell_type": "code",
   "execution_count": 9,
   "id": "a95c3ef0",
   "metadata": {},
   "outputs": [
    {
     "data": {
      "text/html": [
       "<div>\n",
       "<style scoped>\n",
       "    .dataframe tbody tr th:only-of-type {\n",
       "        vertical-align: middle;\n",
       "    }\n",
       "\n",
       "    .dataframe tbody tr th {\n",
       "        vertical-align: top;\n",
       "    }\n",
       "\n",
       "    .dataframe thead th {\n",
       "        text-align: right;\n",
       "    }\n",
       "</style>\n",
       "<table border=\"1\" class=\"dataframe\">\n",
       "  <thead>\n",
       "    <tr style=\"text-align: right;\">\n",
       "      <th></th>\n",
       "      <th>0</th>\n",
       "      <th>1</th>\n",
       "      <th>2</th>\n",
       "      <th>3</th>\n",
       "      <th>4</th>\n",
       "      <th>5</th>\n",
       "      <th>6</th>\n",
       "      <th>7</th>\n",
       "      <th>8</th>\n",
       "      <th>9</th>\n",
       "      <th>...</th>\n",
       "      <th>131</th>\n",
       "      <th>132</th>\n",
       "      <th>133</th>\n",
       "      <th>134</th>\n",
       "      <th>135</th>\n",
       "      <th>136</th>\n",
       "      <th>137</th>\n",
       "      <th>138</th>\n",
       "      <th>139</th>\n",
       "      <th>140</th>\n",
       "    </tr>\n",
       "  </thead>\n",
       "  <tbody>\n",
       "    <tr>\n",
       "      <th>0</th>\n",
       "      <td>-0.112522</td>\n",
       "      <td>-2.827204</td>\n",
       "      <td>-3.773897</td>\n",
       "      <td>-4.349751</td>\n",
       "      <td>-4.376041</td>\n",
       "      <td>-3.474986</td>\n",
       "      <td>-2.181408</td>\n",
       "      <td>-1.818287</td>\n",
       "      <td>-1.250522</td>\n",
       "      <td>-0.477492</td>\n",
       "      <td>...</td>\n",
       "      <td>0.792168</td>\n",
       "      <td>0.933541</td>\n",
       "      <td>0.796958</td>\n",
       "      <td>0.578621</td>\n",
       "      <td>0.257740</td>\n",
       "      <td>0.228077</td>\n",
       "      <td>0.123431</td>\n",
       "      <td>0.925286</td>\n",
       "      <td>0.193137</td>\n",
       "      <td>1.0</td>\n",
       "    </tr>\n",
       "    <tr>\n",
       "      <th>1</th>\n",
       "      <td>-1.100878</td>\n",
       "      <td>-3.996840</td>\n",
       "      <td>-4.285843</td>\n",
       "      <td>-4.506579</td>\n",
       "      <td>-4.022377</td>\n",
       "      <td>-3.234368</td>\n",
       "      <td>-1.566126</td>\n",
       "      <td>-0.992258</td>\n",
       "      <td>-0.754680</td>\n",
       "      <td>0.042321</td>\n",
       "      <td>...</td>\n",
       "      <td>0.538356</td>\n",
       "      <td>0.656881</td>\n",
       "      <td>0.787490</td>\n",
       "      <td>0.724046</td>\n",
       "      <td>0.555784</td>\n",
       "      <td>0.476333</td>\n",
       "      <td>0.773820</td>\n",
       "      <td>1.119621</td>\n",
       "      <td>-1.436250</td>\n",
       "      <td>1.0</td>\n",
       "    </tr>\n",
       "    <tr>\n",
       "      <th>2</th>\n",
       "      <td>-0.567088</td>\n",
       "      <td>-2.593450</td>\n",
       "      <td>-3.874230</td>\n",
       "      <td>-4.584095</td>\n",
       "      <td>-4.187449</td>\n",
       "      <td>-3.151462</td>\n",
       "      <td>-1.742940</td>\n",
       "      <td>-1.490658</td>\n",
       "      <td>-1.183580</td>\n",
       "      <td>-0.394229</td>\n",
       "      <td>...</td>\n",
       "      <td>0.886073</td>\n",
       "      <td>0.531452</td>\n",
       "      <td>0.311377</td>\n",
       "      <td>-0.021919</td>\n",
       "      <td>-0.713683</td>\n",
       "      <td>-0.532197</td>\n",
       "      <td>0.321097</td>\n",
       "      <td>0.904227</td>\n",
       "      <td>-0.421797</td>\n",
       "      <td>1.0</td>\n",
       "    </tr>\n",
       "    <tr>\n",
       "      <th>3</th>\n",
       "      <td>0.490473</td>\n",
       "      <td>-1.914407</td>\n",
       "      <td>-3.616364</td>\n",
       "      <td>-4.318823</td>\n",
       "      <td>-4.268016</td>\n",
       "      <td>-3.881110</td>\n",
       "      <td>-2.993280</td>\n",
       "      <td>-1.671131</td>\n",
       "      <td>-1.333884</td>\n",
       "      <td>-0.965629</td>\n",
       "      <td>...</td>\n",
       "      <td>0.350816</td>\n",
       "      <td>0.499111</td>\n",
       "      <td>0.600345</td>\n",
       "      <td>0.842069</td>\n",
       "      <td>0.952074</td>\n",
       "      <td>0.990133</td>\n",
       "      <td>1.086798</td>\n",
       "      <td>1.403011</td>\n",
       "      <td>-0.383564</td>\n",
       "      <td>1.0</td>\n",
       "    </tr>\n",
       "    <tr>\n",
       "      <th>4</th>\n",
       "      <td>0.800232</td>\n",
       "      <td>-0.874252</td>\n",
       "      <td>-2.384761</td>\n",
       "      <td>-3.973292</td>\n",
       "      <td>-4.338224</td>\n",
       "      <td>-3.802422</td>\n",
       "      <td>-2.534510</td>\n",
       "      <td>-1.783423</td>\n",
       "      <td>-1.594450</td>\n",
       "      <td>-0.753199</td>\n",
       "      <td>...</td>\n",
       "      <td>1.148884</td>\n",
       "      <td>0.958434</td>\n",
       "      <td>1.059025</td>\n",
       "      <td>1.371682</td>\n",
       "      <td>1.277392</td>\n",
       "      <td>0.960304</td>\n",
       "      <td>0.971020</td>\n",
       "      <td>1.614392</td>\n",
       "      <td>1.421456</td>\n",
       "      <td>1.0</td>\n",
       "    </tr>\n",
       "  </tbody>\n",
       "</table>\n",
       "<p>5 rows × 141 columns</p>\n",
       "</div>"
      ],
      "text/plain": [
       "        0         1         2         3         4         5         6    \\\n",
       "0 -0.112522 -2.827204 -3.773897 -4.349751 -4.376041 -3.474986 -2.181408   \n",
       "1 -1.100878 -3.996840 -4.285843 -4.506579 -4.022377 -3.234368 -1.566126   \n",
       "2 -0.567088 -2.593450 -3.874230 -4.584095 -4.187449 -3.151462 -1.742940   \n",
       "3  0.490473 -1.914407 -3.616364 -4.318823 -4.268016 -3.881110 -2.993280   \n",
       "4  0.800232 -0.874252 -2.384761 -3.973292 -4.338224 -3.802422 -2.534510   \n",
       "\n",
       "        7         8         9    ...       131       132       133       134  \\\n",
       "0 -1.818287 -1.250522 -0.477492  ...  0.792168  0.933541  0.796958  0.578621   \n",
       "1 -0.992258 -0.754680  0.042321  ...  0.538356  0.656881  0.787490  0.724046   \n",
       "2 -1.490658 -1.183580 -0.394229  ...  0.886073  0.531452  0.311377 -0.021919   \n",
       "3 -1.671131 -1.333884 -0.965629  ...  0.350816  0.499111  0.600345  0.842069   \n",
       "4 -1.783423 -1.594450 -0.753199  ...  1.148884  0.958434  1.059025  1.371682   \n",
       "\n",
       "        135       136       137       138       139  140  \n",
       "0  0.257740  0.228077  0.123431  0.925286  0.193137  1.0  \n",
       "1  0.555784  0.476333  0.773820  1.119621 -1.436250  1.0  \n",
       "2 -0.713683 -0.532197  0.321097  0.904227 -0.421797  1.0  \n",
       "3  0.952074  0.990133  1.086798  1.403011 -0.383564  1.0  \n",
       "4  1.277392  0.960304  0.971020  1.614392  1.421456  1.0  \n",
       "\n",
       "[5 rows x 141 columns]"
      ]
     },
     "execution_count": 9,
     "metadata": {},
     "output_type": "execute_result"
    }
   ],
   "source": [
    "raw_data.head()"
   ]
  },
  {
   "cell_type": "markdown",
   "id": "d957b9d1",
   "metadata": {},
   "source": [
    "## Note :\n",
    "\n",
    "1. The last column is the target column\n",
    "2. 0 indicates anomolous data point\n",
    "3. 1 indicate normal data point"
   ]
  },
  {
   "cell_type": "markdown",
   "id": "c209dbf2",
   "metadata": {},
   "source": [
    "### b) Counting the anamolous and non anamolous data points"
   ]
  },
  {
   "cell_type": "code",
   "execution_count": 10,
   "id": "3dc130d8",
   "metadata": {},
   "outputs": [
    {
     "name": "stdout",
     "output_type": "stream",
     "text": [
      "[0. 1.]\n",
      "[2079 2919]\n"
     ]
    }
   ],
   "source": [
    "targets, frequencies = np.unique(raw_data.iloc[:, -1], return_counts=True)\n",
    "print(targets)\n",
    "print(frequencies)"
   ]
  },
  {
   "cell_type": "code",
   "execution_count": 14,
   "id": "dedeb3e9",
   "metadata": {},
   "outputs": [
    {
     "data": {
      "image/png": "[encoded data removed]",
      "text/plain": [
       "<Figure size 500x500 with 1 Axes>"
      ]
     },
     "metadata": {},
     "output_type": "display_data"
    }
   ],
   "source": [
    "# Plotting pie chart for the distribution of targets in train and test sets\n",
    "fig = plt.figure(figsize=(5, 5))\n",
    "ax = fig.add_subplot(111)\n",
    "ax.pie(\n",
    "    x=frequencies,\n",
    "    labels=targets,\n",
    "    autopct='%1.1f%%'\n",
    ")\n",
    "plt.title(\"Target distribution in train set\", fontsize=20)\n",
    "plt.show()"
   ]
  },
  {
   "cell_type": "markdown",
   "id": "63260bed",
   "metadata": {},
   "source": [
    "# Observations :\n",
    "\n",
    "1. Percentage of anamolous data points : 41.6%"
   ]
  },
  {
   "cell_type": "markdown",
   "id": "0bad97b5",
   "metadata": {},
   "source": [
    "# 4. Data preprocessing"
   ]
  },
  {
   "cell_type": "markdown",
   "id": "1551d453",
   "metadata": {},
   "source": [
    "## a) Splitting inputs and targets"
   ]
  },
  {
   "cell_type": "code",
   "execution_count": 15,
   "id": "ed6e2deb",
   "metadata": {},
   "outputs": [],
   "source": [
    "# Scaling train and test inputs for a range of 0 to 1 by dividing by 255 (scalar)\n",
    "inputs = raw_data.iloc[:, :-1]\n",
    "labels = raw_data.iloc[:, -1]"
   ]
  },
  {
   "cell_type": "code",
   "execution_count": 16,
   "id": "05521ab9",
   "metadata": {},
   "outputs": [
    {
     "name": "stdout",
     "output_type": "stream",
     "text": [
      "(4998, 140)\n",
      "(4998,)\n"
     ]
    }
   ],
   "source": [
    "print(inputs.shape)\n",
    "print(labels.shape)"
   ]
  },
  {
   "cell_type": "markdown",
   "id": "39013a38",
   "metadata": {},
   "source": [
    "## b) Splitting the training and testing data\n",
    "\n",
    "Split ratio : 80:20"
   ]
  },
  {
   "cell_type": "code",
   "execution_count": 17,
   "id": "f1fdbd9c",
   "metadata": {},
   "outputs": [],
   "source": [
    "# Splitting data into 80 to 20 ratio of training and testing\n",
    "train_inputs, test_inputs, train_labels, test_labels = train_test_split(\n",
    "    inputs,\n",
    "    labels,\n",
    "    test_size=0.2,\n",
    "    stratify=labels\n",
    ")"
   ]
  },
  {
   "cell_type": "markdown",
   "id": "7933a8f3",
   "metadata": {},
   "source": [
    "## c) Scaling the data"
   ]
  },
  {
   "cell_type": "code",
   "execution_count": 18,
   "id": "57bebd05",
   "metadata": {},
   "outputs": [],
   "source": [
    "# Initializing scaler object\n",
    "scaler = MinMaxScaler(feature_range=(0, 1))"
   ]
  },
  {
   "cell_type": "code",
   "execution_count": 19,
   "id": "5252a1b6",
   "metadata": {},
   "outputs": [],
   "source": [
    "train_inputs_scaled = scaler.fit_transform(train_inputs.copy())\n",
    "test_inputs_scaled = scaler.transform(test_inputs.copy())"
   ]
  },
  {
   "cell_type": "markdown",
   "id": "f7ef9226",
   "metadata": {},
   "source": [
    "# 5. Model Definition"
   ]
  },
  {
   "cell_type": "code",
   "execution_count": 28,
   "id": "ffc41fdb",
   "metadata": {},
   "outputs": [],
   "source": [
    "# create a model by subclassing Model class in tensorflow\n",
    "class AutoEncoder(tf.keras.Model):\n",
    "\n",
    "    def __init__(self, output_units, code_size=8):\n",
    "        super().__init__()\n",
    "        self.encoder = tf.keras.models.Sequential([\n",
    "          tfl.Dense(64, activation='relu'),\n",
    "          tfl.Dropout(0.1),\n",
    "          tfl.Dense(32, activation='relu'),\n",
    "          tfl.Dropout(0.1),\n",
    "          tfl.Dense(16, activation='relu'),\n",
    "          tfl.Dropout(0.1),\n",
    "          tfl.Dense(code_size, activation='relu')\n",
    "        ])\n",
    "        self.decoder = tf.keras.models.Sequential([\n",
    "          tfl.Dense(16, activation='relu'),\n",
    "          tfl.Dropout(0.1),\n",
    "          tfl.Dense(32, activation='relu'),\n",
    "          tfl.Dropout(0.1),\n",
    "          tfl.Dense(64, activation='relu'),\n",
    "          tfl.Dropout(0.1),\n",
    "          tfl.Dense(output_units, activation='sigmoid')\n",
    "        ])\n",
    "  \n",
    "    def call(self, inputs):\n",
    "        encoded = self.encoder(inputs)\n",
    "        decoded = self.decoder(encoded)\n",
    "        return decoded"
   ]
  },
  {
   "cell_type": "markdown",
   "id": "8f192924",
   "metadata": {},
   "source": [
    "# 6. Model Configuration and initialization"
   ]
  },
  {
   "cell_type": "code",
   "execution_count": 29,
   "id": "304d4a96",
   "metadata": {},
   "outputs": [],
   "source": [
    "model = AutoEncoder(output_units=train_inputs_scaled.shape[1])\n",
    "# configurations of model\n",
    "model.compile(\n",
    "    loss='msle', \n",
    "    metrics=['mse'], \n",
    "    optimizer='adam'\n",
    ")"
   ]
  },
  {
   "cell_type": "markdown",
   "id": "775e47be",
   "metadata": {},
   "source": [
    "# 7. Model training"
   ]
  },
  {
   "cell_type": "code",
   "execution_count": 31,
   "id": "474399d7",
   "metadata": {},
   "outputs": [
    {
     "name": "stdout",
     "output_type": "stream",
     "text": [
      "Epoch 1/20\n",
      "8/8 [==============================] - 13s 74ms/step - loss: 0.1166 - mse: 0.2497 - val_loss: 0.1164 - val_mse: 0.2489\n",
      "Epoch 2/20\n",
      "8/8 [==============================] - 0s 5ms/step - loss: 0.1159 - mse: 0.2474 - val_loss: 0.1143 - val_mse: 0.2431\n",
      "Epoch 3/20\n",
      "8/8 [==============================] - 0s 9ms/step - loss: 0.1128 - mse: 0.2384 - val_loss: 0.1078 - val_mse: 0.2254\n",
      "Epoch 4/20\n",
      "8/8 [==============================] - 0s 21ms/step - loss: 0.1042 - mse: 0.2134 - val_loss: 0.0931 - val_mse: 0.1829\n",
      "Epoch 5/20\n",
      "8/8 [==============================] - 0s 22ms/step - loss: 0.0901 - mse: 0.1713 - val_loss: 0.0781 - val_mse: 0.1362\n",
      "Epoch 6/20\n",
      "8/8 [==============================] - 0s 20ms/step - loss: 0.0782 - mse: 0.1358 - val_loss: 0.0706 - val_mse: 0.1150\n",
      "Epoch 7/20\n",
      "8/8 [==============================] - 0s 20ms/step - loss: 0.0716 - mse: 0.1181 - val_loss: 0.0670 - val_mse: 0.1057\n",
      "Epoch 8/20\n",
      "8/8 [==============================] - 0s 24ms/step - loss: 0.0674 - mse: 0.1084 - val_loss: 0.0641 - val_mse: 0.0998\n",
      "Epoch 9/20\n",
      "8/8 [==============================] - 0s 20ms/step - loss: 0.0633 - mse: 0.1002 - val_loss: 0.0598 - val_mse: 0.0922\n",
      "Epoch 10/20\n",
      "8/8 [==============================] - 0s 20ms/step - loss: 0.0579 - mse: 0.0899 - val_loss: 0.0531 - val_mse: 0.0810\n",
      "Epoch 11/20\n",
      "8/8 [==============================] - 0s 22ms/step - loss: 0.0499 - mse: 0.0771 - val_loss: 0.0432 - val_mse: 0.0650\n",
      "Epoch 12/20\n",
      "8/8 [==============================] - 0s 21ms/step - loss: 0.0373 - mse: 0.0583 - val_loss: 0.0264 - val_mse: 0.0406\n",
      "Epoch 13/20\n",
      "8/8 [==============================] - 0s 20ms/step - loss: 0.0224 - mse: 0.0386 - val_loss: 0.0137 - val_mse: 0.0250\n",
      "Epoch 14/20\n",
      "8/8 [==============================] - 0s 20ms/step - loss: 0.0164 - mse: 0.0325 - val_loss: 0.0106 - val_mse: 0.0218\n",
      "Epoch 15/20\n",
      "8/8 [==============================] - 0s 19ms/step - loss: 0.0137 - mse: 0.0280 - val_loss: 0.0102 - val_mse: 0.0213\n",
      "Epoch 16/20\n",
      "8/8 [==============================] - 0s 21ms/step - loss: 0.0131 - mse: 0.0269 - val_loss: 0.0121 - val_mse: 0.0262\n",
      "Epoch 17/20\n",
      "8/8 [==============================] - 0s 21ms/step - loss: 0.0167 - mse: 0.0344 - val_loss: 0.0115 - val_mse: 0.0235\n",
      "Epoch 18/20\n",
      "8/8 [==============================] - 0s 22ms/step - loss: 0.0131 - mse: 0.0276 - val_loss: 0.0093 - val_mse: 0.0195\n",
      "Epoch 19/20\n",
      "8/8 [==============================] - 0s 20ms/step - loss: 0.0120 - mse: 0.0245 - val_loss: 0.0104 - val_mse: 0.0210\n",
      "Epoch 20/20\n",
      "8/8 [==============================] - 0s 21ms/step - loss: 0.0115 - mse: 0.0237 - val_loss: 0.0101 - val_mse: 0.0220\n"
     ]
    }
   ],
   "source": [
    "history = model.fit(\n",
    "    train_inputs_scaled,\n",
    "    train_labels,\n",
    "    epochs=20,\n",
    "    batch_size=512,\n",
    "    validation_data=(test_inputs_scaled, test_labels)\n",
    ")"
   ]
  },
  {
   "cell_type": "markdown",
   "id": "385e6be0",
   "metadata": {},
   "source": [
    "# 8. Plotting the training loss"
   ]
  },
  {
   "cell_type": "code",
   "execution_count": 32,
   "id": "22b40fae",
   "metadata": {},
   "outputs": [
    {
     "data": {
      "image/png": "[encoded data removed]",
      "text/plain": [
       "<Figure size 640x480 with 1 Axes>"
      ]
     },
     "metadata": {},
     "output_type": "display_data"
    }
   ],
   "source": [
    "plt.plot(history.history['loss'])\n",
    "plt.plot(history.history['val_loss'])\n",
    "plt.xlabel('Epochs')\n",
    "plt.ylabel('MSLE Loss')\n",
    "plt.legend(['loss', 'val_loss'])\n",
    "plt.show()"
   ]
  },
  {
   "cell_type": "markdown",
   "id": "e5f5ec4e",
   "metadata": {},
   "source": [
    "# 9. Defining utilities for calculating threshold"
   ]
  },
  {
   "cell_type": "code",
   "execution_count": 34,
   "id": "b174c081",
   "metadata": {},
   "outputs": [],
   "source": [
    "def find_threshold(model, x_train_scaled):\n",
    "    reconstructions = model.predict(x_train_scaled)\n",
    "    # provides losses of individual instances\n",
    "    reconstruction_errors = tf.keras.losses.msle(reconstructions, x_train_scaled)\n",
    "    # threshold for anomaly scores\n",
    "    threshold = np.mean(reconstruction_errors.numpy()) \\\n",
    "      + np.std(reconstruction_errors.numpy())\n",
    "    return threshold\n",
    "\n",
    "def get_predictions(model, x_test_scaled, threshold):\n",
    "    predictions = model.predict(x_test_scaled)\n",
    "    # provides losses of individual instances\n",
    "    errors = tf.keras.losses.msle(predictions, x_test_scaled)\n",
    "    # 0 = anomaly, 1 = normal\n",
    "    anomaly_mask = pd.Series(errors) > threshold\n",
    "    preds = anomaly_mask.map(lambda x: 0.0 if x == True else 1.0)\n",
    "    return preds"
   ]
  },
  {
   "cell_type": "code",
   "execution_count": 37,
   "id": "a96b5d98",
   "metadata": {},
   "outputs": [
    {
     "name": "stdout",
     "output_type": "stream",
     "text": [
      "Threshold: 0.19539486490506142\n"
     ]
    },
    {
     "data": {
      "text/plain": [
       "0.949"
      ]
     },
     "execution_count": 37,
     "metadata": {},
     "output_type": "execute_result"
    }
   ],
   "source": [
    "# Calculating thresholds\n",
    "threshold = find_threshold(model, train_inputs_scaled)\n",
    "print(f\"Threshold: {threshold}\")\n",
    "predictions = get_predictions(model, test_inputs_scaled, threshold)\n",
    "accuracy_score(predictions, test_labels)"
   ]
  },
  {
   "cell_type": "markdown",
   "id": "87ca52dd",
   "metadata": {},
   "source": [
    "# 10. Results"
   ]
  },
  {
   "cell_type": "markdown",
   "id": "84a57688",
   "metadata": {},
   "source": [
    "1. Testing data accuracy : 94.9%\n",
    "2. Anomaly threshold : 0.19"
   ]
  },
  {
   "cell_type": "markdown",
   "id": "e7ed96f2",
   "metadata": {},
   "source": [
    "<center><h1>End of Notebook</h1></center>"
   ]
  }
 ],
 "metadata": {
  "kernelspec": {
   "display_name": "Python [conda env:python3.7_DL] *",
   "language": "python",
   "name": "conda-env-python3.7_DL-py"
  },
  "language_info": {
   "codemirror_mode": {
    "name": "ipython",
    "version": 3
   },
   "file_extension": ".py",
   "mimetype": "text/x-python",
   "name": "python",
   "nbconvert_exporter": "python",
   "pygments_lexer": "ipython3",
   "version": "3.7.0"
  }
 },
 "nbformat": 4,
 "nbformat_minor": 5
}
